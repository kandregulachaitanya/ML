{
 "cells": [
  {
   "cell_type": "markdown",
   "metadata": {},
   "source": [
    "\n",
    "1. Import numpy as np and print the version number"
   ]
  },
  {
   "cell_type": "code",
   "execution_count": null,
   "metadata": {},
   "outputs": [],
   "source": []
  },
  {
   "cell_type": "code",
   "execution_count": 2,
   "metadata": {},
   "outputs": [
    {
     "data": {
      "text/plain": [
       "'1.16.2'"
      ]
     },
     "execution_count": 2,
     "metadata": {},
     "output_type": "execute_result"
    }
   ],
   "source": [
    "import numpy as np\n",
    "np.__version__"
   ]
  },
  {
   "cell_type": "code",
   "execution_count": null,
   "metadata": {},
   "outputs": [],
   "source": []
  },
  {
   "cell_type": "markdown",
   "metadata": {},
   "source": [
    "### 2. Create a 1D array of numbers from 0 to 9\n"
   ]
  },
  {
   "cell_type": "code",
   "execution_count": 14,
   "metadata": {},
   "outputs": [
    {
     "data": {
      "text/plain": [
       "array([0, 1, 2, 3, 4, 5, 6, 7, 8, 9])"
      ]
     },
     "execution_count": 14,
     "metadata": {},
     "output_type": "execute_result"
    }
   ],
   "source": [
    "arr = np.arange(10)\n",
    "arr"
   ]
  },
  {
   "cell_type": "markdown",
   "metadata": {},
   "source": [
    "### 3. Create a 3×3 numpy array of all True’s(1's)\n"
   ]
  },
  {
   "cell_type": "code",
   "execution_count": 9,
   "metadata": {},
   "outputs": [
    {
     "data": {
      "text/plain": [
       "array([[0, 1, 2],\n",
       "       [3, 4, 5],\n",
       "       [6, 7, 8]])"
      ]
     },
     "execution_count": 9,
     "metadata": {},
     "output_type": "execute_result"
    }
   ],
   "source": [
    "arr1 = np.arange(9).reshape(3,3)\n",
    "arr1"
   ]
  },
  {
   "cell_type": "markdown",
   "metadata": {},
   "source": [
    "### 4. Convert a 1D array to a 2D array with 2 rows\n"
   ]
  },
  {
   "cell_type": "code",
   "execution_count": 10,
   "metadata": {},
   "outputs": [
    {
     "data": {
      "text/plain": [
       "array([[0, 1],\n",
       "       [2, 3],\n",
       "       [4, 5]])"
      ]
     },
     "execution_count": 10,
     "metadata": {},
     "output_type": "execute_result"
    }
   ],
   "source": [
    "arr3 = np.arange(6).reshape(3,2)\n",
    "arr3"
   ]
  },
  {
   "cell_type": "markdown",
   "metadata": {},
   "source": [
    "#### 5. Write a NumPy program to generate six random integers between 10 and 30"
   ]
  },
  {
   "cell_type": "code",
   "execution_count": 11,
   "metadata": {},
   "outputs": [
    {
     "data": {
      "text/plain": [
       "array([11, 26, 10, 23, 28, 17])"
      ]
     },
     "execution_count": 11,
     "metadata": {},
     "output_type": "execute_result"
    }
   ],
   "source": [
    "a1 = np.random.randint(10,30,6)\n",
    "a1"
   ]
  },
  {
   "cell_type": "markdown",
   "metadata": {},
   "source": [
    "#### 6. Write a NumPy program to create a 3x3x3 array with random values\n"
   ]
  },
  {
   "cell_type": "code",
   "execution_count": 12,
   "metadata": {},
   "outputs": [
    {
     "data": {
      "text/plain": [
       "array([[[0.49158845, 0.98014399, 0.58414593],\n",
       "        [0.76156911, 0.02355055, 0.43499158],\n",
       "        [0.43170263, 0.88406895, 0.85388711]],\n",
       "\n",
       "       [[0.8597193 , 0.1911712 , 0.75799484],\n",
       "        [0.26922539, 0.99775286, 0.99844233],\n",
       "        [0.72568679, 0.64996291, 0.05502102]],\n",
       "\n",
       "       [[0.21331777, 0.31503993, 0.36858116],\n",
       "        [0.70237441, 0.92019561, 0.52611093],\n",
       "        [0.03117774, 0.60706488, 0.46335963]]])"
      ]
     },
     "execution_count": 12,
     "metadata": {},
     "output_type": "execute_result"
    }
   ],
   "source": [
    "a2 = np.random.random((3,3,3))\n",
    "a2"
   ]
  },
  {
   "cell_type": "markdown",
   "metadata": {},
   "source": [
    "#### 7.Write a NumPy program to create a 5x5 array with random values and find the minimum and maximum values.\n"
   ]
  },
  {
   "cell_type": "code",
   "execution_count": 11,
   "metadata": {},
   "outputs": [
    {
     "name": "stdout",
     "output_type": "stream",
     "text": [
      "[[0.61036299 0.12230683]\n",
      " [0.31495742 0.89260067]\n",
      " [0.11984505 0.18649001]\n",
      " [0.66013934 0.12086697]\n",
      " [0.76400648 0.83338486]]\n"
     ]
    },
    {
     "data": {
      "text/plain": [
       "(0.11984505479860752, 0.8926006680630544)"
      ]
     },
     "execution_count": 11,
     "metadata": {},
     "output_type": "execute_result"
    }
   ],
   "source": [
    "x = np.random.random((5,2))\n",
    "print(x) \n",
    "x.min(), x.max()\n"
   ]
  },
  {
   "cell_type": "markdown",
   "metadata": {},
   "source": [
    "#### 8 Write a NumPy program to create a random 10x4 array and extract the first five rows of the array and store them into a variable\n"
   ]
  },
  {
   "cell_type": "code",
   "execution_count": 13,
   "metadata": {},
   "outputs": [
    {
     "name": "stdout",
     "output_type": "stream",
     "text": [
      "[[0.69000635 0.47355101 0.4761114  0.75693755]\n",
      " [0.69407347 0.19291352 0.04267955 0.35101113]\n",
      " [0.70340797 0.65865762 0.46600884 0.92166111]\n",
      " [0.61981583 0.10204185 0.7631809  0.60885525]\n",
      " [0.2386988  0.96992819 0.06443865 0.40088808]\n",
      " [0.44828068 0.5302005  0.61652277 0.45574421]\n",
      " [0.02455206 0.93609236 0.01819664 0.40262595]\n",
      " [0.66918756 0.34245122 0.9883006  0.04728296]\n",
      " [0.10299066 0.13670077 0.03683546 0.32244175]\n",
      " [0.81682469 0.31600931 0.8674786  0.96512284]]\n",
      "[[0.69000635 0.47355101 0.4761114  0.75693755]\n",
      " [0.69407347 0.19291352 0.04267955 0.35101113]\n",
      " [0.70340797 0.65865762 0.46600884 0.92166111]\n",
      " [0.61981583 0.10204185 0.7631809  0.60885525]\n",
      " [0.2386988  0.96992819 0.06443865 0.40088808]]\n"
     ]
    }
   ],
   "source": [
    "import numpy as np\n",
    "n = np.random.rand(10, 4)\n",
    "print(n)\n",
    "y= n[:5, :]\n",
    "print(y)"
   ]
  },
  {
   "cell_type": "markdown",
   "metadata": {},
   "source": [
    "### 9.How to reverse the rows of a 2D array?"
   ]
  },
  {
   "cell_type": "code",
   "execution_count": 20,
   "metadata": {},
   "outputs": [
    {
     "name": "stdout",
     "output_type": "stream",
     "text": [
      "[[5, 6], [3, 4], [1, 2]]\n"
     ]
    }
   ],
   "source": [
    "arr=[[1,2],[3,4],[5,6]] \n",
    "print(arr[::-1])"
   ]
  },
  {
   "cell_type": "markdown",
   "metadata": {},
   "source": [
    "### 10. Create 1D array with random numbers and replace all odd numbers in arr with -1\n"
   ]
  },
  {
   "cell_type": "code",
   "execution_count": 64,
   "metadata": {},
   "outputs": [
    {
     "name": "stdout",
     "output_type": "stream",
     "text": [
      "[3 4 4 5 1 6 2 3 5 2]\n"
     ]
    },
    {
     "data": {
      "text/plain": [
       "array([-1,  4,  4, -1, -1,  6,  2, -1, -1,  2])"
      ]
     },
     "execution_count": 64,
     "metadata": {},
     "output_type": "execute_result"
    }
   ],
   "source": [
    "a3 =  np.random.randint(1,7,10)\n",
    "num = 0\n",
    "print(a3)\n",
    "for i in range(len(a3)):#10 0-9\n",
    "    if a3[i] % 2 != 0:\n",
    "        a3[i]=-1\n",
    "a3\n",
    "\n",
    "    "
   ]
  },
  {
   "cell_type": "code",
   "execution_count": null,
   "metadata": {},
   "outputs": [],
   "source": []
  },
  {
   "cell_type": "code",
   "execution_count": null,
   "metadata": {},
   "outputs": [],
   "source": []
  }
 ],
 "metadata": {
  "kernelspec": {
   "display_name": "Python 3",
   "language": "python",
   "name": "python3"
  },
  "language_info": {
   "codemirror_mode": {
    "name": "ipython",
    "version": 3
   },
   "file_extension": ".py",
   "mimetype": "text/x-python",
   "name": "python",
   "nbconvert_exporter": "python",
   "pygments_lexer": "ipython3",
   "version": "3.7.3"
  }
 },
 "nbformat": 4,
 "nbformat_minor": 2
}
